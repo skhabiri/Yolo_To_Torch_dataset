{
 "cells": [
  {
   "cell_type": "code",
   "execution_count": 63,
   "id": "043043b1-bf34-48d0-8e8d-831923c880a9",
   "metadata": {},
   "outputs": [],
   "source": [
    "import re\n",
    "import os\n",
    "import glob\n",
    "import argparse\n",
    "import cv2\n",
    "import matplotlib.pyplot as plt\n",
    "import shutil\n",
    "import numpy as np\n",
    "%matplotlib inline\n",
    "\n",
    "ypath='./pascal_voc/yolo_format'\n",
    "tpath = './torch_dataset1'\n",
    "ratio = 0.2\n",
    "\n",
    "img_path = ypath + '/images'\n",
    "label_path = ypath + '/labels'\n",
    "\n",
    "# label mapping is optional\n",
    "label_dict = {\"0\": \"bird\", \"1\": \"flatwing\", \"2\": \"quadcopter\"}"
   ]
  },
  {
   "cell_type": "code",
   "execution_count": 64,
   "id": "4fbcef64-a4ac-41ac-81f0-71b193f338cf",
   "metadata": {},
   "outputs": [
    {
     "name": "stdout",
     "output_type": "stream",
     "text": [
      "0 0.0143 0.2799 0.0283 0.0504\n",
      "0 0.0467 0.3797 0.0409 0.0564\n",
      "2 0.1238 0.4332 0.0476 0.0625\n",
      "2 0.6733 0.5037 0.0488 0.0585\n",
      "1 0.616 0.531 0.0522 0.0605\n",
      "1 0.9267 0.788 0.0589 0.0625\n"
     ]
    }
   ],
   "source": [
    "!cat ./pascal_voc/yolo_format/labels/frame_000000.txt"
   ]
  },
  {
   "cell_type": "code",
   "execution_count": 65,
   "id": "2f3b79a2-8fa2-472a-a4ea-9ba1bb8d9c23",
   "metadata": {},
   "outputs": [],
   "source": [
    "for k,v in label_dict.items():\n",
    "    train_path = tpath + '/train/' + v\n",
    "    test_path = tpath + '/test/' + v\n",
    "\n",
    "    if not os.path.exists(train_path):\n",
    "        os.makedirs(train_path)\n",
    "    if not os.path.exists(test_path):\n",
    "        os.makedirs(test_path)"
   ]
  },
  {
   "cell_type": "code",
   "execution_count": 71,
   "id": "dce13671-25f0-4934-bd91-df5ebee3e25c",
   "metadata": {},
   "outputs": [],
   "source": [
    "def yolotxt(t):\n",
    "    \"\"\"\n",
    "    convert a yolo formatted line to coordinate floats \n",
    "    \"\"\"\n",
    "    t0 = t.split()\n",
    "    cls = t0[0]\n",
    "    t1 = [float(i) for i in t0[1:]]\n",
    "    xmin, ymin = t1[0] - 0.5 * t1[2], t1[1] - 0.5 * t1[3]\n",
    "    xmax, ymax = xmin + t1[2], ymin + t1[3]\n",
    "    return cls, xmin, ymin, xmax, ymax"
   ]
  },
  {
   "cell_type": "markdown",
   "id": "e6da57f3-603c-4eee-b87b-9c347111f500",
   "metadata": {},
   "source": [
    "Get the coordinate of each bounding box and crop the respective image and save it under the respective class. Additionally split the data into test and train"
   ]
  },
  {
   "cell_type": "code",
   "execution_count": 72,
   "id": "2d4f400d-96a4-4a34-b5e7-b3bdf0faac43",
   "metadata": {},
   "outputs": [],
   "source": [
    "for filename in glob.glob(label_path + '/*.txt'):\n",
    "    basename = os.path.basename(filename)\n",
    "    basename_no_ext, extension = (os.path.splitext(basename)[i] for i in [0, 1])\n",
    "\n",
    "    labelfile=open(filename,'r')\n",
    "    lines=labelfile.readlines()\n",
    "\n",
    "    for line in lines:\n",
    "\n",
    "        img = cv2.imread(img_path + '/' + basename_no_ext + '.jpg')\n",
    "        dh, dw, _ = img.shape\n",
    "\n",
    "        cls, xmin, ymin, xmax, ymax = yolotxt(line)\n",
    "        xmin = max(int(xmin * dw), 0)\n",
    "        xmax = max(int(xmax * dw), 0)\n",
    "        ymin = max(int(ymin * dh), 0)\n",
    "        ymax = max(int(ymax * dh), 0)\n",
    "\n",
    "        crop_img = img[ymin:ymax, xmin:xmax]\n",
    "\n",
    "        if np.random.rand(1) < ratio:\n",
    "            dir = '/test/'\n",
    "        else:\n",
    "            dir = '/train/'\n",
    "\n",
    "        plt.imshow(crop_img)\n",
    "        plt.title(cls)\n",
    "        plt.show()\n",
    "        \n",
    "        img_out = tpath + dir + label_dict[cls] + '/' + label_dict[cls] + basename_no_ext + '.jpg'\n",
    "\n",
    "        cv2.imwrite(img_out, crop_img)\n"
   ]
  },
  {
   "cell_type": "code",
   "execution_count": null,
   "id": "aef56c6b-8ae4-468c-9a65-da7d8060c59f",
   "metadata": {},
   "outputs": [],
   "source": []
  },
  {
   "cell_type": "code",
   "execution_count": null,
   "id": "c63917c3-3595-4690-888c-25bdd690abda",
   "metadata": {},
   "outputs": [],
   "source": []
  }
 ],
 "metadata": {
  "kernelspec": {
   "display_name": "drone-python 3.8.5",
   "language": "python",
   "name": "drone"
  },
  "language_info": {
   "codemirror_mode": {
    "name": "ipython",
    "version": 3
   },
   "file_extension": ".py",
   "mimetype": "text/x-python",
   "name": "python",
   "nbconvert_exporter": "python",
   "pygments_lexer": "ipython3",
   "version": "3.8.5"
  }
 },
 "nbformat": 4,
 "nbformat_minor": 5
}
