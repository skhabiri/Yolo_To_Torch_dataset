{
 "cells": [
  {
   "cell_type": "code",
   "execution_count": 12,
   "id": "4009c095-61fe-4302-8499-f59ed1a5da09",
   "metadata": {},
   "outputs": [],
   "source": [
    "import os\n",
    "import json\n",
    "import pandas as pd\n",
    "import torch\n",
    "\n",
    "from torchvision.io.image import read_image\n",
    "from torch.utils.data import Dataset, DataLoader, random_split"
   ]
  },
  {
   "cell_type": "code",
   "execution_count": 13,
   "id": "c82a6237-dea6-43dc-a82b-61fc5779f9de",
   "metadata": {},
   "outputs": [
    {
     "name": "stdout",
     "output_type": "stream",
     "text": [
      "./yolo_format/images\n",
      "4306\n",
      "<class 'list'>\n"
     ]
    },
    {
     "data": {
      "text/plain": [
       "['frame_004065.txt',\n",
       " 'frame_002414.txt',\n",
       " 'frame_000203.txt',\n",
       " 'frame_000565.txt',\n",
       " 'frame_002372.txt']"
      ]
     },
     "execution_count": 13,
     "metadata": {},
     "output_type": "execute_result"
    }
   ],
   "source": [
    "source_path = './yolo_format/'\n",
    "images_dir = os.path.join(source_path, 'images')\n",
    "labels_dir = os.path.join(source_path, 'labels')\n",
    "print(images_dir)\n",
    "label_files = os.listdir(labels_dir)\n",
    "label_files = [filename for filename in label_files if not filename.startswith('.')]\n",
    "\n",
    "print(len(label_files))\n",
    "print(type(label_files))\n",
    "label_files[:5]"
   ]
  },
  {
   "cell_type": "code",
   "execution_count": 18,
   "id": "e0692133-3678-4d67-8dd2-e71115dd774b",
   "metadata": {},
   "outputs": [
    {
     "data": {
      "text/plain": [
       "('./yolo_format/', './yolo_format/labels')"
      ]
     },
     "execution_count": 18,
     "metadata": {},
     "output_type": "execute_result"
    }
   ],
   "source": [
    "source_path, labels_dir"
   ]
  },
  {
   "cell_type": "code",
   "execution_count": 27,
   "id": "18015c52-3b0d-4a89-aa9b-23428673c8fa",
   "metadata": {},
   "outputs": [
    {
     "data": {
      "text/plain": [
       "(24617, 6)"
      ]
     },
     "execution_count": 27,
     "metadata": {},
     "output_type": "execute_result"
    }
   ],
   "source": [
    "'''\n",
    "Create the json string\n",
    "labels = [{'Image': 'frame_000000.jpg',\n",
    "  'Class': [0, 0, 2, 2, 1, 1],\n",
    "  'xc': [0.0143, 0.0467, 0.1238, 0.6733, 0.616, 0.9267],\n",
    "  'yc': [0.2799, 0.3797, 0.4332, 0.5037, 0.531, 0.7879999999999999],\n",
    "  'width': [0.0283, 0.0409, 0.0476, 0.0488, 0.0522, 0.0589],\n",
    "  'height': [0.0504, 0.0564, 0.0625, 0.0585, 0.0605, 0.0625]},\n",
    " {'Image': 'frame_000001.jpg',\n",
    "  'Class': [0, 0, 2, 2, 1, 1],\n",
    "  'xc': [0.0143, 0.0467, 0.1277, 0.6719, 0.6158, 0.9285],\n",
    "  'yc': [0.2798, 0.3798, 0.4338, 0.5034, 0.531, 0.7891],\n",
    "  'width': [0.0283, 0.0408, 0.0476, 0.0488, 0.0522, 0.0589],\n",
    "  'height': [0.0504, 0.0564, 0.0625, 0.0585, 0.0605, 0.0625]}]\n",
    "]\n",
    "\n",
    "'''\n",
    "# list of dataframes\n",
    "df_lst = []\n",
    "\n",
    "for lf in label_files:\n",
    "    file = pd.read_csv(os.path.join(labels_dir, lf), header=None, sep=' ')\n",
    "    file['Image'] = lf.replace('.txt', '.jpg')\n",
    "    df_lst.append(file)\n",
    "    \n",
    "lf_df = pd.concat(df_lst, axis=0, ignore_index=True)\n",
    "lf_df.columns = ['Class', 'xc', 'yc', 'width', 'height', 'Image']\n",
    "lf_df = lf_df[['Image', 'Class', 'xc', 'yc', 'width', 'height']]\n",
    "lf_df.shape"
   ]
  },
  {
   "cell_type": "code",
   "execution_count": 35,
   "id": "aaa60308-fb4e-4fe9-a734-099f6218484c",
   "metadata": {},
   "outputs": [
    {
     "data": {
      "text/html": [
       "<div>\n",
       "<style scoped>\n",
       "    .dataframe tbody tr th:only-of-type {\n",
       "        vertical-align: middle;\n",
       "    }\n",
       "\n",
       "    .dataframe tbody tr th {\n",
       "        vertical-align: top;\n",
       "    }\n",
       "\n",
       "    .dataframe thead th {\n",
       "        text-align: right;\n",
       "    }\n",
       "</style>\n",
       "<table border=\"1\" class=\"dataframe\">\n",
       "  <thead>\n",
       "    <tr style=\"text-align: right;\">\n",
       "      <th></th>\n",
       "      <th>Image</th>\n",
       "      <th>Class</th>\n",
       "      <th>xc</th>\n",
       "      <th>yc</th>\n",
       "      <th>width</th>\n",
       "      <th>height</th>\n",
       "    </tr>\n",
       "  </thead>\n",
       "  <tbody>\n",
       "    <tr>\n",
       "      <th>0</th>\n",
       "      <td>frame_004065.jpg</td>\n",
       "      <td>0</td>\n",
       "      <td>0.6524</td>\n",
       "      <td>0.2217</td>\n",
       "      <td>0.0509</td>\n",
       "      <td>0.0561</td>\n",
       "    </tr>\n",
       "    <tr>\n",
       "      <th>1</th>\n",
       "      <td>frame_004065.jpg</td>\n",
       "      <td>2</td>\n",
       "      <td>0.6948</td>\n",
       "      <td>0.3422</td>\n",
       "      <td>0.0478</td>\n",
       "      <td>0.0633</td>\n",
       "    </tr>\n",
       "    <tr>\n",
       "      <th>2</th>\n",
       "      <td>frame_004065.jpg</td>\n",
       "      <td>2</td>\n",
       "      <td>0.5120</td>\n",
       "      <td>0.4533</td>\n",
       "      <td>0.0458</td>\n",
       "      <td>0.0524</td>\n",
       "    </tr>\n",
       "    <tr>\n",
       "      <th>3</th>\n",
       "      <td>frame_004065.jpg</td>\n",
       "      <td>0</td>\n",
       "      <td>0.5174</td>\n",
       "      <td>0.7258</td>\n",
       "      <td>0.0397</td>\n",
       "      <td>0.0506</td>\n",
       "    </tr>\n",
       "    <tr>\n",
       "      <th>4</th>\n",
       "      <td>frame_004065.jpg</td>\n",
       "      <td>1</td>\n",
       "      <td>0.4800</td>\n",
       "      <td>0.5817</td>\n",
       "      <td>0.0549</td>\n",
       "      <td>0.0416</td>\n",
       "    </tr>\n",
       "    <tr>\n",
       "      <th>5</th>\n",
       "      <td>frame_004065.jpg</td>\n",
       "      <td>1</td>\n",
       "      <td>0.3274</td>\n",
       "      <td>0.7820</td>\n",
       "      <td>0.0559</td>\n",
       "      <td>0.0452</td>\n",
       "    </tr>\n",
       "    <tr>\n",
       "      <th>6</th>\n",
       "      <td>frame_002414.jpg</td>\n",
       "      <td>0</td>\n",
       "      <td>0.2662</td>\n",
       "      <td>0.1213</td>\n",
       "      <td>0.0489</td>\n",
       "      <td>0.0597</td>\n",
       "    </tr>\n",
       "  </tbody>\n",
       "</table>\n",
       "</div>"
      ],
      "text/plain": [
       "              Image  Class      xc      yc   width  height\n",
       "0  frame_004065.jpg      0  0.6524  0.2217  0.0509  0.0561\n",
       "1  frame_004065.jpg      2  0.6948  0.3422  0.0478  0.0633\n",
       "2  frame_004065.jpg      2  0.5120  0.4533  0.0458  0.0524\n",
       "3  frame_004065.jpg      0  0.5174  0.7258  0.0397  0.0506\n",
       "4  frame_004065.jpg      1  0.4800  0.5817  0.0549  0.0416\n",
       "5  frame_004065.jpg      1  0.3274  0.7820  0.0559  0.0452\n",
       "6  frame_002414.jpg      0  0.2662  0.1213  0.0489  0.0597"
      ]
     },
     "execution_count": 35,
     "metadata": {},
     "output_type": "execute_result"
    }
   ],
   "source": [
    "lf_df.head(7)"
   ]
  },
  {
   "cell_type": "markdown",
   "id": "fce52f05-4ce3-4a53-a69e-10af7746c70c",
   "metadata": {},
   "source": [
    "* **Group indices by Image and sort the record indices by Image as well. Meanwhile aggregate values of other columns with the same groupby index as a list**"
   ]
  },
  {
   "cell_type": "code",
   "execution_count": 31,
   "id": "947ba83d-e186-49af-b75a-88a0502268d9",
   "metadata": {},
   "outputs": [
    {
     "name": "stdout",
     "output_type": "stream",
     "text": [
      "(4306, 6)\n"
     ]
    },
    {
     "data": {
      "text/html": [
       "<div>\n",
       "<style scoped>\n",
       "    .dataframe tbody tr th:only-of-type {\n",
       "        vertical-align: middle;\n",
       "    }\n",
       "\n",
       "    .dataframe tbody tr th {\n",
       "        vertical-align: top;\n",
       "    }\n",
       "\n",
       "    .dataframe thead th {\n",
       "        text-align: right;\n",
       "    }\n",
       "</style>\n",
       "<table border=\"1\" class=\"dataframe\">\n",
       "  <thead>\n",
       "    <tr style=\"text-align: right;\">\n",
       "      <th></th>\n",
       "      <th>Image</th>\n",
       "      <th>Class</th>\n",
       "      <th>xc</th>\n",
       "      <th>yc</th>\n",
       "      <th>width</th>\n",
       "      <th>height</th>\n",
       "    </tr>\n",
       "  </thead>\n",
       "  <tbody>\n",
       "    <tr>\n",
       "      <th>0</th>\n",
       "      <td>frame_000000.jpg</td>\n",
       "      <td>[0, 0, 2, 2, 1, 1]</td>\n",
       "      <td>[0.0143, 0.0467, 0.1238, 0.6733, 0.616, 0.9267]</td>\n",
       "      <td>[0.2799, 0.3797, 0.4332, 0.5037, 0.531, 0.788]</td>\n",
       "      <td>[0.0283, 0.0409, 0.0476, 0.0488, 0.0522, 0.0589]</td>\n",
       "      <td>[0.0504, 0.0564, 0.0625, 0.0585, 0.0605, 0.0625]</td>\n",
       "    </tr>\n",
       "    <tr>\n",
       "      <th>1</th>\n",
       "      <td>frame_000001.jpg</td>\n",
       "      <td>[0, 0, 2, 2, 1, 1]</td>\n",
       "      <td>[0.0143, 0.0467, 0.1277, 0.6719, 0.6158, 0.9285]</td>\n",
       "      <td>[0.2798, 0.3798, 0.4338, 0.5034, 0.531, 0.7891]</td>\n",
       "      <td>[0.0283, 0.0408, 0.0476, 0.0488, 0.0522, 0.0589]</td>\n",
       "      <td>[0.0504, 0.0564, 0.0625, 0.0585, 0.0605, 0.0625]</td>\n",
       "    </tr>\n",
       "  </tbody>\n",
       "</table>\n",
       "</div>"
      ],
      "text/plain": [
       "              Image               Class  \\\n",
       "0  frame_000000.jpg  [0, 0, 2, 2, 1, 1]   \n",
       "1  frame_000001.jpg  [0, 0, 2, 2, 1, 1]   \n",
       "\n",
       "                                                 xc  \\\n",
       "0   [0.0143, 0.0467, 0.1238, 0.6733, 0.616, 0.9267]   \n",
       "1  [0.0143, 0.0467, 0.1277, 0.6719, 0.6158, 0.9285]   \n",
       "\n",
       "                                                yc  \\\n",
       "0   [0.2799, 0.3797, 0.4332, 0.5037, 0.531, 0.788]   \n",
       "1  [0.2798, 0.3798, 0.4338, 0.5034, 0.531, 0.7891]   \n",
       "\n",
       "                                              width  \\\n",
       "0  [0.0283, 0.0409, 0.0476, 0.0488, 0.0522, 0.0589]   \n",
       "1  [0.0283, 0.0408, 0.0476, 0.0488, 0.0522, 0.0589]   \n",
       "\n",
       "                                             height  \n",
       "0  [0.0504, 0.0564, 0.0625, 0.0585, 0.0605, 0.0625]  \n",
       "1  [0.0504, 0.0564, 0.0625, 0.0585, 0.0605, 0.0625]  "
      ]
     },
     "execution_count": 31,
     "metadata": {},
     "output_type": "execute_result"
    }
   ],
   "source": [
    "df1 = lf_df.groupby('Image').agg(lambda x: list(x)).reset_index('Image')\n",
    "print(df1.shape)\n",
    "df1[0:2]"
   ]
  },
  {
   "cell_type": "markdown",
   "id": "77d3ab88-4a12-470c-b6fd-4ae7cc025847",
   "metadata": {},
   "source": [
    "* **Create a list of dictionaries for all records**"
   ]
  },
  {
   "cell_type": "code",
   "execution_count": 38,
   "id": "b8fff1ae-9f0c-439b-aca6-ba0ebd63af3e",
   "metadata": {},
   "outputs": [
    {
     "data": {
      "text/plain": [
       "[{'Image': 'frame_000000.jpg',\n",
       "  'Class': [0, 0, 2, 2, 1, 1],\n",
       "  'xc': [0.0143, 0.0467, 0.1238, 0.6733, 0.616, 0.9267],\n",
       "  'yc': [0.2799, 0.3797, 0.4332, 0.5037, 0.531, 0.788],\n",
       "  'width': [0.0283, 0.0409, 0.0476, 0.0488, 0.0522, 0.0589],\n",
       "  'height': [0.0504, 0.0564, 0.0625, 0.0585, 0.0605, 0.0625]},\n",
       " {'Image': 'frame_000001.jpg',\n",
       "  'Class': [0, 0, 2, 2, 1, 1],\n",
       "  'xc': [0.0143, 0.0467, 0.1277, 0.6719, 0.6158, 0.9285],\n",
       "  'yc': [0.2798, 0.3798, 0.4338, 0.5034, 0.531, 0.7891],\n",
       "  'width': [0.0283, 0.0408, 0.0476, 0.0488, 0.0522, 0.0589],\n",
       "  'height': [0.0504, 0.0564, 0.0625, 0.0585, 0.0605, 0.0625]}]"
      ]
     },
     "execution_count": 38,
     "metadata": {},
     "output_type": "execute_result"
    }
   ],
   "source": [
    "df1_list = df1.to_dict(orient='records')\n",
    "df1_list[0:2]"
   ]
  },
  {
   "cell_type": "markdown",
   "id": "d27b1668-aac0-46ef-8522-0d7ab888d040",
   "metadata": {},
   "source": [
    "*Let's check the records ina json file with sequential integer keys for each record*"
   ]
  },
  {
   "cell_type": "code",
   "execution_count": 39,
   "id": "ebc0995b-0eb5-4b63-bfec-1933a26da0ec",
   "metadata": {},
   "outputs": [],
   "source": [
    "with open('labels.json', 'w') as f:\n",
    "    f.write(json.dumps(df1_list))"
   ]
  },
  {
   "cell_type": "markdown",
   "id": "299cfc02-4ee6-4b82-8767-86bedf81ecd9",
   "metadata": {},
   "source": [
    "*Let's read back the json file*"
   ]
  },
  {
   "cell_type": "code",
   "execution_count": 41,
   "id": "7e0db35a-81f0-494a-9eb2-3f511e230d4d",
   "metadata": {},
   "outputs": [
    {
     "data": {
      "text/plain": [
       "[{'Image': 'frame_000000.jpg',\n",
       "  'Class': [0, 0, 2, 2, 1, 1],\n",
       "  'xc': [0.0143, 0.0467, 0.1238, 0.6733, 0.616, 0.9267],\n",
       "  'yc': [0.2799, 0.3797, 0.4332, 0.5037, 0.531, 0.788],\n",
       "  'width': [0.0283, 0.0409, 0.0476, 0.0488, 0.0522, 0.0589],\n",
       "  'height': [0.0504, 0.0564, 0.0625, 0.0585, 0.0605, 0.0625]},\n",
       " {'Image': 'frame_000001.jpg',\n",
       "  'Class': [0, 0, 2, 2, 1, 1],\n",
       "  'xc': [0.0143, 0.0467, 0.1277, 0.6719, 0.6158, 0.9285],\n",
       "  'yc': [0.2798, 0.3798, 0.4338, 0.5034, 0.531, 0.7891],\n",
       "  'width': [0.0283, 0.0408, 0.0476, 0.0488, 0.0522, 0.0589],\n",
       "  'height': [0.0504, 0.0564, 0.0625, 0.0585, 0.0605, 0.0625]}]"
      ]
     },
     "execution_count": 41,
     "metadata": {},
     "output_type": "execute_result"
    }
   ],
   "source": [
    "#load json string\n",
    "with open('labels.json', 'r') as f:\n",
    "   data = json.load(f)\n",
    "data[:2]"
   ]
  },
  {
   "cell_type": "markdown",
   "id": "a75f79dd-961f-4ea7-afce-e0555f4ee941",
   "metadata": {},
   "source": [
    "*Alternatively:*"
   ]
  },
  {
   "cell_type": "code",
   "execution_count": 44,
   "id": "ec50e378-de46-4700-8509-c5c87709aa4d",
   "metadata": {},
   "outputs": [
    {
     "data": {
      "text/html": [
       "<div>\n",
       "<style scoped>\n",
       "    .dataframe tbody tr th:only-of-type {\n",
       "        vertical-align: middle;\n",
       "    }\n",
       "\n",
       "    .dataframe tbody tr th {\n",
       "        vertical-align: top;\n",
       "    }\n",
       "\n",
       "    .dataframe thead th {\n",
       "        text-align: right;\n",
       "    }\n",
       "</style>\n",
       "<table border=\"1\" class=\"dataframe\">\n",
       "  <thead>\n",
       "    <tr style=\"text-align: right;\">\n",
       "      <th></th>\n",
       "      <th>Image</th>\n",
       "      <th>Class</th>\n",
       "      <th>xc</th>\n",
       "      <th>yc</th>\n",
       "      <th>width</th>\n",
       "      <th>height</th>\n",
       "    </tr>\n",
       "  </thead>\n",
       "  <tbody>\n",
       "    <tr>\n",
       "      <th>0</th>\n",
       "      <td>frame_000000.jpg</td>\n",
       "      <td>[0, 0, 2, 2, 1, 1]</td>\n",
       "      <td>[0.0143, 0.046700000000000005, 0.1238000000000...</td>\n",
       "      <td>[0.27990000000000004, 0.37970000000000004, 0.4...</td>\n",
       "      <td>[0.028300000000000002, 0.0409, 0.0476, 0.0488,...</td>\n",
       "      <td>[0.0504, 0.056400000000000006, 0.0625, 0.0585,...</td>\n",
       "    </tr>\n",
       "    <tr>\n",
       "      <th>1</th>\n",
       "      <td>frame_000001.jpg</td>\n",
       "      <td>[0, 0, 2, 2, 1, 1]</td>\n",
       "      <td>[0.0143, 0.046700000000000005, 0.1277, 0.6719,...</td>\n",
       "      <td>[0.2798, 0.3798, 0.4338, 0.5034000000000001, 0...</td>\n",
       "      <td>[0.028300000000000002, 0.0408, 0.0476, 0.0488,...</td>\n",
       "      <td>[0.0504, 0.056400000000000006, 0.0625, 0.0585,...</td>\n",
       "    </tr>\n",
       "  </tbody>\n",
       "</table>\n",
       "</div>"
      ],
      "text/plain": [
       "              Image               Class  \\\n",
       "0  frame_000000.jpg  [0, 0, 2, 2, 1, 1]   \n",
       "1  frame_000001.jpg  [0, 0, 2, 2, 1, 1]   \n",
       "\n",
       "                                                  xc  \\\n",
       "0  [0.0143, 0.046700000000000005, 0.1238000000000...   \n",
       "1  [0.0143, 0.046700000000000005, 0.1277, 0.6719,...   \n",
       "\n",
       "                                                  yc  \\\n",
       "0  [0.27990000000000004, 0.37970000000000004, 0.4...   \n",
       "1  [0.2798, 0.3798, 0.4338, 0.5034000000000001, 0...   \n",
       "\n",
       "                                               width  \\\n",
       "0  [0.028300000000000002, 0.0409, 0.0476, 0.0488,...   \n",
       "1  [0.028300000000000002, 0.0408, 0.0476, 0.0488,...   \n",
       "\n",
       "                                              height  \n",
       "0  [0.0504, 0.056400000000000006, 0.0625, 0.0585,...  \n",
       "1  [0.0504, 0.056400000000000006, 0.0625, 0.0585,...  "
      ]
     },
     "execution_count": 44,
     "metadata": {},
     "output_type": "execute_result"
    }
   ],
   "source": [
    "df = pd.read_json('labels.json')\n",
    "df.head(2)\n",
    "# df.loc[1, 'height']"
   ]
  },
  {
   "cell_type": "code",
   "execution_count": 65,
   "id": "3b8dae36-635a-4db2-ad12-b3758d25445a",
   "metadata": {},
   "outputs": [
    {
     "data": {
      "text/plain": [
       "tensor([0, 0, 2, 2, 1, 1])"
      ]
     },
     "execution_count": 65,
     "metadata": {},
     "output_type": "execute_result"
    }
   ],
   "source": [
    "torch.LongTensor(df.loc[0, 'Class'])"
   ]
  },
  {
   "cell_type": "code",
   "execution_count": 66,
   "id": "dcc435e1-674a-416e-9fab-db9fa7de4559",
   "metadata": {},
   "outputs": [],
   "source": [
    "class LabelDataset(Dataset):\n",
    "    def __init__(self, img_dir, json_file, transform=None):\n",
    "        self.img_labels = pd.read_json(json_file)\n",
    "        self.img_dir = img_dir\n",
    "        self.transform = transform\n",
    "        \n",
    "    def __len__(self):\n",
    "        return len(self.img_labels)\n",
    "    \n",
    "    def __getitem__(self, idx):\n",
    "        \"\"\"\n",
    "        for accessing list items, dictionary entries, array elements etc\n",
    "        \"\"\"\n",
    "        img_path = os.path.join(self.img_dir, self.img_labels.loc[idx, 'Image'])\n",
    "        image = read_image(img_path)\n",
    "        classes = labels = torch.LongTensor(self.img_labels.loc[idx, 'Class'])\n",
    "        xcs = torch.FloatTensor(self.img_labels.loc[idx, 'xc'])\n",
    "        ycs = torch.FloatTensor(self.img_labels.loc[idx, 'yc'])\n",
    "        widths = torch.FloatTensor(self.img_labels.loc[idx, 'width'])\n",
    "        heights = torch.FloatTensor(self.img_labels.loc[idx, 'height'])\n",
    "        if self.transform:\n",
    "            image = self.transform(image)\n",
    "        return image, classes, xcs, ycs, widths, heights  "
   ]
  },
  {
   "cell_type": "code",
   "execution_count": 75,
   "id": "6b9b39db-ad91-4f6a-a261-2b83dbe28793",
   "metadata": {},
   "outputs": [],
   "source": [
    "def collate_fn(batch):\n",
    "    \"\"\"\n",
    "    batch : is a list of tuples of (tensor1, tensor2, ...) \n",
    "    with the length of batch size\n",
    "    \"\"\"\n",
    "    images = []\n",
    "    classes = []\n",
    "    xcs = []\n",
    "    ycs = []\n",
    "    widths = []\n",
    "    heights = []\n",
    "        \n",
    "    for b in batch:\n",
    "        images.append(b[0])\n",
    "        classes.append(b[1])\n",
    "        xcs.append(b[2])\n",
    "        ycs.append(b[3])\n",
    "        widths.append(b[4])\n",
    "        heights.append(b[5])\n",
    "        \n",
    "    images = torch.stack(images, dim=0)\n",
    "        \n",
    "    return images, classes, xcs, ycs, widths, heights"
   ]
  },
  {
   "cell_type": "code",
   "execution_count": 73,
   "id": "0e6bde81-a4e5-4fc9-8fba-75d59f3f3611",
   "metadata": {},
   "outputs": [
    {
     "name": "stdout",
     "output_type": "stream",
     "text": [
      "4306\n",
      "(tensor([[[0, 0, 0,  ..., 0, 0, 0],\n",
      "         [0, 0, 0,  ..., 0, 0, 0],\n",
      "         [0, 0, 0,  ..., 0, 0, 0],\n",
      "         ...,\n",
      "         [0, 0, 0,  ..., 0, 0, 0],\n",
      "         [0, 0, 0,  ..., 0, 0, 0],\n",
      "         [0, 0, 0,  ..., 0, 0, 0]],\n",
      "\n",
      "        [[0, 0, 0,  ..., 0, 0, 0],\n",
      "         [0, 0, 0,  ..., 0, 0, 0],\n",
      "         [0, 0, 0,  ..., 0, 0, 0],\n",
      "         ...,\n",
      "         [0, 0, 0,  ..., 0, 0, 0],\n",
      "         [0, 0, 0,  ..., 0, 0, 0],\n",
      "         [0, 0, 0,  ..., 0, 0, 0]],\n",
      "\n",
      "        [[0, 0, 0,  ..., 0, 0, 0],\n",
      "         [0, 0, 0,  ..., 0, 0, 0],\n",
      "         [0, 0, 0,  ..., 0, 0, 0],\n",
      "         ...,\n",
      "         [0, 0, 0,  ..., 0, 0, 0],\n",
      "         [0, 0, 0,  ..., 0, 0, 0],\n",
      "         [0, 0, 0,  ..., 0, 0, 0]]], dtype=torch.uint8), tensor([0, 0, 2, 2, 1, 1]), tensor([0.0143, 0.0467, 0.1238, 0.6733, 0.6160, 0.9267]), tensor([0.2799, 0.3797, 0.4332, 0.5037, 0.5310, 0.7880]), tensor([0.0283, 0.0409, 0.0476, 0.0488, 0.0522, 0.0589]), tensor([0.0504, 0.0564, 0.0625, 0.0585, 0.0605, 0.0625]))\n"
     ]
    }
   ],
   "source": [
    "data = LabelDataset(images_dir, 'labels.json')\n",
    "print(data.__len__())\n",
    "\n",
    "print(data.__getitem__(0)[:])"
   ]
  },
  {
   "cell_type": "code",
   "execution_count": 76,
   "id": "ee1ea31f-fd64-4901-9c26-fd8415cd8920",
   "metadata": {},
   "outputs": [
    {
     "data": {
      "text/plain": [
       "__main__.LabelDataset"
      ]
     },
     "execution_count": 76,
     "metadata": {},
     "output_type": "execute_result"
    }
   ],
   "source": [
    "type(data)"
   ]
  },
  {
   "cell_type": "code",
   "execution_count": 77,
   "id": "d51be58a-052a-48fe-89b9-281254da0f47",
   "metadata": {},
   "outputs": [],
   "source": [
    "train_size = int(0.8 * len(data))\n",
    "test_size = len(data) - train_size\n",
    "train_data, test_data = random_split(data, [train_size, test_size])\n",
    "\n",
    "train_dataloader = DataLoader(train_data, batch_size=32, shuffle=True, collate_fn=collate_fn)\n",
    "test_dataloader = DataLoader(test_data, batch_size=32, shuffle=True, collate_fn=collate_fn)"
   ]
  },
  {
   "cell_type": "code",
   "execution_count": null,
   "id": "fd1efd8f-705f-43ce-8283-e4717ec34057",
   "metadata": {},
   "outputs": [],
   "source": []
  }
 ],
 "metadata": {
  "kernelspec": {
   "display_name": "drone-python 3.8.5",
   "language": "python",
   "name": "drone"
  },
  "language_info": {
   "codemirror_mode": {
    "name": "ipython",
    "version": 3
   },
   "file_extension": ".py",
   "mimetype": "text/x-python",
   "name": "python",
   "nbconvert_exporter": "python",
   "pygments_lexer": "ipython3",
   "version": "3.8.5"
  }
 },
 "nbformat": 4,
 "nbformat_minor": 5
}
